{
 "cells": [
  {
   "cell_type": "markdown",
   "metadata": {},
   "source": [
    "# Instructions"
   ]
  },
  {
   "cell_type": "markdown",
   "metadata": {},
   "source": [
    "In this assignment, you will write a Python script to download user interaction data from YouTube for each \n",
    "“youtubeId” provided in the “vdoLinks.csv” file. For each of the YouTube video id, you will extract the \n",
    "following information:\n",
    "1. 100 comments\n",
    "2. Description of the video\n",
    "3. View Count\n",
    "4. Like Count\n",
    "5. Dislike Count\n",
    "6. Comment Count\n",
    "7. Duration of the video\n",
    "8. Favorite Count\n",
    "\n",
    "\n",
    "While extracting the data, if any of the “youtubeId” does not work, please ignore that ID and proceed with the following “youtubeId”.\n",
    "\n",
    "After the data extraction is done, then please find out the following:\n",
    "1. A list of the top-10 videos based on the total views\n",
    "2. A list of the bottom-10 videos based on the total views\n",
    "3. The most liked video\n",
    "4. The least liked video\n",
    "5. The video with the highest duration\n",
    "6. Apply sentiment analysis on the downloaded comments for each of the videos. For sentiment \n",
    "analysis, you can use VADER or any other tool of your choice. Your program should list the \n",
    "sentiments score for each of the movies\n",
    "\n",
    "Data from YouTube can be extracted in many ways. You can use any of the available approaches. However, we have practiced one method for the task in our Lab session that might be handy."
   ]
  },
  {
   "cell_type": "markdown",
   "metadata": {},
   "source": [
    "# Submissions"
   ]
  },
  {
   "cell_type": "markdown",
   "metadata": {},
   "source": [
    "To submit, please do the following:\n",
    "1. Write a short report on the assignment. (70 Marks)\n",
    "- The report should have the following:\n",
    "    - Data collection procedure\n",
    "    - Data cleansing steps\n",
    "    - Analysis Steps\n",
    "    - Using a bar diagram, show the top-10 videos based on total views\n",
    "    - Using a bar diagram, show the bottom-10 videos based on total views (NB. In the bottom 10 list, do not include the videos that have zero\n",
    "    -  The title of the video that has the most likes\n",
    "    - The title of the video that has the least likes\n",
    "    - The title of the video that has the highest duration\n",
    "    - Using a bar diagram, show the top-10 videos that have the highest positive sentiment  scores, which you calculated from the comments\n",
    "    - Using a bar diagram, show the bottom-10 videos that have the highest negative sentiment scores, which you calculated from the comments\n",
    "\n",
    "_**Note:** Use appropreate additional visualization techniques to present your findings if required._\n",
    "<br><br><br>\n",
    "**Please upload the report and the Python file**\n",
    "\n",
    "**Presentation (30 Marks)**\n",
    "\n",
    "Presentation time: 15 minutes\n",
    "\n",
    "Presentation is a two-step procedure:\n",
    "- Step-1: Present your slides describing your work\n",
    "- Step-2: Demonstrate your python solution"
   ]
  },
  {
   "cell_type": "code",
   "execution_count": null,
   "metadata": {},
   "outputs": [],
   "source": []
  },
  {
   "cell_type": "code",
   "execution_count": null,
   "metadata": {},
   "outputs": [],
   "source": []
  }
 ],
 "metadata": {
  "language_info": {
   "name": "python"
  },
  "orig_nbformat": 4
 },
 "nbformat": 4,
 "nbformat_minor": 2
}
